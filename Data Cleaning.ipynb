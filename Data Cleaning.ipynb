{
 "cells": [
  {
   "cell_type": "markdown",
   "metadata": {},
   "source": [
    "# Cleaning the LA Streets\n"
   ]
  },
  {
   "cell_type": "code",
   "execution_count": 1,
   "metadata": {
    "collapsed": true
   },
   "outputs": [],
   "source": [
    "import pandas as pd\n",
    "import numpy as np\n",
    "\n",
    "import re\n",
    "\n",
    "from IPython.display import clear_output"
   ]
  },
  {
   "cell_type": "code",
   "execution_count": 2,
   "metadata": {
    "collapsed": true
   },
   "outputs": [],
   "source": [
    "crime_la = pd.read_csv(\"data/Crime_Data_from_2010_to_Present.csv\")"
   ]
  },
  {
   "cell_type": "code",
   "execution_count": 3,
   "metadata": {},
   "outputs": [
    {
     "data": {
      "text/plain": [
       "(1810088, 26)"
      ]
     },
     "execution_count": 3,
     "metadata": {},
     "output_type": "execute_result"
    }
   ],
   "source": [
    "crime_la.shape"
   ]
  },
  {
   "cell_type": "code",
   "execution_count": 4,
   "metadata": {},
   "outputs": [
    {
     "data": {
      "text/plain": [
       "Index(['DR Number', 'Date Reported', 'Date Occurred', 'Time Occurred',\n",
       "       'Area ID', 'Area Name', 'Reporting District', 'Crime Code',\n",
       "       'Crime Code Description', 'MO Codes', 'Victim Age', 'Victim Sex',\n",
       "       'Victim Descent', 'Premise Code', 'Premise Description',\n",
       "       'Weapon Used Code', 'Weapon Description', 'Status Code',\n",
       "       'Status Description', 'Crime Code 1', 'Crime Code 2', 'Crime Code 3',\n",
       "       'Crime Code 4', 'Address', 'Cross Street', 'Location '],\n",
       "      dtype='object')"
      ]
     },
     "execution_count": 4,
     "metadata": {},
     "output_type": "execute_result"
    }
   ],
   "source": [
    "crime_la.columns"
   ]
  },
  {
   "cell_type": "code",
   "execution_count": 5,
   "metadata": {},
   "outputs": [
    {
     "data": {
      "text/html": [
       "<div>\n",
       "<style>\n",
       "    .dataframe thead tr:only-child th {\n",
       "        text-align: right;\n",
       "    }\n",
       "\n",
       "    .dataframe thead th {\n",
       "        text-align: left;\n",
       "    }\n",
       "\n",
       "    .dataframe tbody tr th {\n",
       "        vertical-align: top;\n",
       "    }\n",
       "</style>\n",
       "<table border=\"1\" class=\"dataframe\">\n",
       "  <thead>\n",
       "    <tr style=\"text-align: right;\">\n",
       "      <th></th>\n",
       "      <th>Date Reported</th>\n",
       "      <th>Date Occurred</th>\n",
       "      <th>Area Name</th>\n",
       "      <th>Crime Code Description</th>\n",
       "      <th>Victim Age</th>\n",
       "      <th>Victim Sex</th>\n",
       "      <th>Premise Description</th>\n",
       "      <th>Address</th>\n",
       "      <th>Location</th>\n",
       "    </tr>\n",
       "  </thead>\n",
       "  <tbody>\n",
       "    <tr>\n",
       "      <th>0</th>\n",
       "      <td>03/14/2013</td>\n",
       "      <td>03/11/2013</td>\n",
       "      <td>77th Street</td>\n",
       "      <td>INTIMATE PARTNER - SIMPLE ASSAULT</td>\n",
       "      <td>30.0</td>\n",
       "      <td>F</td>\n",
       "      <td>MULTI-UNIT DWELLING (APARTMENT, DUPLEX, ETC)</td>\n",
       "      <td>6300    BRYNHURST                    AV</td>\n",
       "      <td>(33.9829, -118.3338)</td>\n",
       "    </tr>\n",
       "    <tr>\n",
       "      <th>1</th>\n",
       "      <td>01/25/2010</td>\n",
       "      <td>01/22/2010</td>\n",
       "      <td>Olympic</td>\n",
       "      <td>VEHICLE - STOLEN</td>\n",
       "      <td>NaN</td>\n",
       "      <td>NaN</td>\n",
       "      <td>STREET</td>\n",
       "      <td>VAN NESS</td>\n",
       "      <td>(34.0454, -118.3157)</td>\n",
       "    </tr>\n",
       "    <tr>\n",
       "      <th>2</th>\n",
       "      <td>03/19/2013</td>\n",
       "      <td>03/18/2013</td>\n",
       "      <td>Southeast</td>\n",
       "      <td>VEHICLE - STOLEN</td>\n",
       "      <td>12.0</td>\n",
       "      <td>NaN</td>\n",
       "      <td>STREET</td>\n",
       "      <td>200 E  104TH                        ST</td>\n",
       "      <td>(33.942, -118.2717)</td>\n",
       "    </tr>\n",
       "    <tr>\n",
       "      <th>3</th>\n",
       "      <td>11/11/2010</td>\n",
       "      <td>11/10/2010</td>\n",
       "      <td>Southeast</td>\n",
       "      <td>VEHICLE - STOLEN</td>\n",
       "      <td>NaN</td>\n",
       "      <td>NaN</td>\n",
       "      <td>STREET</td>\n",
       "      <td>88TH</td>\n",
       "      <td>(33.9572, -118.2717)</td>\n",
       "    </tr>\n",
       "    <tr>\n",
       "      <th>4</th>\n",
       "      <td>01/11/2014</td>\n",
       "      <td>01/04/2014</td>\n",
       "      <td>Topanga</td>\n",
       "      <td>VANDALISM - MISDEAMEANOR ($399 OR UNDER)</td>\n",
       "      <td>84.0</td>\n",
       "      <td>M</td>\n",
       "      <td>SINGLE FAMILY DWELLING</td>\n",
       "      <td>7200    CIRRUS                       WY</td>\n",
       "      <td>(34.2009, -118.6369)</td>\n",
       "    </tr>\n",
       "  </tbody>\n",
       "</table>\n",
       "</div>"
      ],
      "text/plain": [
       "  Date Reported Date Occurred    Area Name  \\\n",
       "0    03/14/2013    03/11/2013  77th Street   \n",
       "1    01/25/2010    01/22/2010      Olympic   \n",
       "2    03/19/2013    03/18/2013    Southeast   \n",
       "3    11/11/2010    11/10/2010    Southeast   \n",
       "4    01/11/2014    01/04/2014      Topanga   \n",
       "\n",
       "                     Crime Code Description  Victim Age Victim Sex  \\\n",
       "0         INTIMATE PARTNER - SIMPLE ASSAULT        30.0          F   \n",
       "1                          VEHICLE - STOLEN         NaN        NaN   \n",
       "2                          VEHICLE - STOLEN        12.0        NaN   \n",
       "3                          VEHICLE - STOLEN         NaN        NaN   \n",
       "4  VANDALISM - MISDEAMEANOR ($399 OR UNDER)        84.0          M   \n",
       "\n",
       "                            Premise Description  \\\n",
       "0  MULTI-UNIT DWELLING (APARTMENT, DUPLEX, ETC)   \n",
       "1                                        STREET   \n",
       "2                                        STREET   \n",
       "3                                        STREET   \n",
       "4                        SINGLE FAMILY DWELLING   \n",
       "\n",
       "                                   Address             Location   \n",
       "0  6300    BRYNHURST                    AV  (33.9829, -118.3338)  \n",
       "1                                 VAN NESS  (34.0454, -118.3157)  \n",
       "2   200 E  104TH                        ST   (33.942, -118.2717)  \n",
       "3                                     88TH  (33.9572, -118.2717)  \n",
       "4  7200    CIRRUS                       WY  (34.2009, -118.6369)  "
      ]
     },
     "execution_count": 5,
     "metadata": {},
     "output_type": "execute_result"
    }
   ],
   "source": [
    "head_columns = [\"Date Reported\", \"Date Occurred\", \"Area Name\", \"Crime Code Description\", \"Victim Age\", \"Victim Sex\", \"Premise Description\",\n",
    "               \"Address\", \"Location \"]\n",
    "\n",
    "crime_la[head_columns].head()"
   ]
  },
  {
   "cell_type": "code",
   "execution_count": 6,
   "metadata": {},
   "outputs": [
    {
     "data": {
      "text/plain": [
       "DR Number                       0\n",
       "Date Reported                   0\n",
       "Date Occurred                   0\n",
       "Time Occurred                   0\n",
       "Area ID                         0\n",
       "Area Name                       0\n",
       "Reporting District              0\n",
       "Crime Code                      0\n",
       "Crime Code Description        376\n",
       "MO Codes                   195376\n",
       "Victim Age                 143908\n",
       "Victim Sex                 166687\n",
       "Victim Descent             166727\n",
       "Premise Code                   84\n",
       "Premise Description          3240\n",
       "Weapon Used Code          1207315\n",
       "Weapon Description        1207316\n",
       "Status Code                     2\n",
       "Status Description              0\n",
       "Crime Code 1                    6\n",
       "Crime Code 2              1694013\n",
       "Crime Code 3              1807359\n",
       "Crime Code 4              1810000\n",
       "Address                         0\n",
       "Cross Street              1508614\n",
       "Location                        9\n",
       "dtype: int64"
      ]
     },
     "execution_count": 6,
     "metadata": {},
     "output_type": "execute_result"
    }
   ],
   "source": [
    "crime_la.isnull().sum()"
   ]
  },
  {
   "cell_type": "code",
   "execution_count": 7,
   "metadata": {
    "collapsed": true
   },
   "outputs": [],
   "source": [
    "#it is important that all locations do not have any NaN cells\n",
    "crime_la = crime_la[crime_la[\"Location \"].notnull()]"
   ]
  },
  {
   "cell_type": "markdown",
   "metadata": {},
   "source": [
    "# Feature Engineering"
   ]
  },
  {
   "cell_type": "code",
   "execution_count": 8,
   "metadata": {},
   "outputs": [
    {
     "name": "stderr",
     "output_type": "stream",
     "text": [
      "C:\\Users\\Pierce\\Anaconda3\\lib\\site-packages\\ipykernel_launcher.py:2: FutureWarning: currently extract(expand=None) means expand=False (return Index/Series/DataFrame) but in a future version of pandas this will be changed to expand=True (return DataFrame)\n",
      "  \n"
     ]
    }
   ],
   "source": [
    "#break down location by longitude and latitiude\n",
    "crime_la[\"Location \"] = crime_la[\"Location \"].str.extract(r\"\\((.*)\\)\")\n",
    "crime_la[\"latitude\"] = crime_la[\"Location \"].str.split(\",\", expand = True)[0]\n",
    "crime_la[\"longitude\"] = crime_la[\"Location \"].str.split(\",\", expand = True)[1]"
   ]
  },
  {
   "cell_type": "code",
   "execution_count": 9,
   "metadata": {},
   "outputs": [],
   "source": [
    "#break down date according to day of week, month, and year\n",
    "crime_la[\"Date Occurred\"] = pd.to_datetime(crime_la[\"Date Occurred\"])\n",
    "\n",
    "crime_la[\"Date Occurred, dayofweek\"] = crime_la[\"Date Occurred\"].dt.dayofweek\n",
    "crime_la[\"Date Occurred, month\"] = crime_la[\"Date Occurred\"].dt.month\n",
    "crime_la[\"Date Occurred, year\"] = crime_la[\"Date Occurred\"].dt.year\n",
    "\n",
    "crime_la[\"Date Reported\"] = pd.to_datetime(crime_la[\"Date Reported\"])"
   ]
  },
  {
   "cell_type": "code",
   "execution_count": 10,
   "metadata": {},
   "outputs": [
    {
     "name": "stderr",
     "output_type": "stream",
     "text": [
      "C:\\Users\\Pierce\\Anaconda3\\lib\\site-packages\\ipykernel_launcher.py:1: FutureWarning: currently extract(expand=None) means expand=False (return Index/Series/DataFrame) but in a future version of pandas this will be changed to expand=True (return DataFrame)\n",
      "  \"\"\"Entry point for launching an IPython kernel.\n"
     ]
    }
   ],
   "source": [
    "crime_la[\"Address Type\"] = crime_la[\"Address\"].str.extract(r\"\\s(\\w{2,4})$\")\n",
    "\n",
    "crime_la[\"Address Type\"] = crime_la[\"Address Type\"].fillna(\"ST\")"
   ]
  },
  {
   "cell_type": "code",
   "execution_count": 11,
   "metadata": {
    "collapsed": true
   },
   "outputs": [],
   "source": [
    "crime_la.to_csv(\"crime in la.csv\", index = False)"
   ]
  }
 ],
 "metadata": {
  "kernelspec": {
   "display_name": "Python 3",
   "language": "python",
   "name": "python3"
  },
  "language_info": {
   "codemirror_mode": {
    "name": "ipython",
    "version": 3
   },
   "file_extension": ".py",
   "mimetype": "text/x-python",
   "name": "python",
   "nbconvert_exporter": "python",
   "pygments_lexer": "ipython3",
   "version": "3.6.3"
  }
 },
 "nbformat": 4,
 "nbformat_minor": 2
}
