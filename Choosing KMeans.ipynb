{
 "cells": [
  {
   "cell_type": "markdown",
   "metadata": {},
   "source": [
    "# Choosing Proper Number Of K Clusters\n",
    "\n",
    "Crime hotspots in LA will be solved by using the K Means Algorithm. it is an unsupervised learning algorithm wherein the user identifies the number of clusters, \"K\", and groups the data together. \n",
    "\n",
    "Here are the steps on how Kmeans works:\n",
    "\n",
    "   1. K centroids will be intialized by the user and is randomly placed depending on the dataset.\n",
    "   2. The distance between the centroid and the data points will be measured, usually euclidean distance is used.\n",
    "   3. Datapoints will be assigned closest to the centroid.\n",
    "       - Boundaries are made by getting the distance between centroids and pass a bisector line between them.\n",
    "   4. Compute the mean within each cluster.\n",
    "   5. Repeat steps 2 to 4 till the mean between clusters stops changing, centroids have converged, or maximum iterations have been reached."
   ]
  },
  {
   "cell_type": "code",
   "execution_count": 1,
   "metadata": {
    "collapsed": true
   },
   "outputs": [],
   "source": [
    "import pandas as pd\n",
    "import numpy as np\n",
    "\n",
    "from sklearn.cluster import KMeans\n",
    "from sklearn.preprocessing import MinMaxScaler\n",
    "\n",
    "import matplotlib.pyplot as plt\n",
    "\n",
    "plt.style.use(\"fivethirtyeight\")\n",
    "%matplotlib inline\n",
    "\n",
    "np.random.seed(7)"
   ]
  },
  {
   "cell_type": "code",
   "execution_count": 2,
   "metadata": {
    "collapsed": true
   },
   "outputs": [],
   "source": [
    "df = pd.read_csv(\"data/crime in la.csv\")"
   ]
  },
  {
   "cell_type": "code",
   "execution_count": 3,
   "metadata": {},
   "outputs": [
    {
     "data": {
      "text/plain": [
       "Index(['DR Number', 'Date Reported', 'Date Occurred', 'Time Occurred',\n",
       "       'Area ID', 'Area Name', 'Reporting District', 'Crime Code',\n",
       "       'Crime Code Description', 'MO Codes', 'Victim Age', 'Victim Sex',\n",
       "       'Victim Descent', 'Premise Code', 'Premise Description',\n",
       "       'Weapon Used Code', 'Weapon Description', 'Status Code',\n",
       "       'Status Description', 'Crime Code 1', 'Crime Code 2', 'Crime Code 3',\n",
       "       'Crime Code 4', 'Address', 'Cross Street', 'Location ', 'latitude',\n",
       "       'longitude', 'Date Occurred, dayofweek', 'Date Occurred, month',\n",
       "       'Date Occurred, year', 'Address Type'],\n",
       "      dtype='object')"
      ]
     },
     "execution_count": 3,
     "metadata": {},
     "output_type": "execute_result"
    }
   ],
   "source": [
    "df.columns"
   ]
  },
  {
   "cell_type": "markdown",
   "metadata": {},
   "source": [
    "# Check for any Outliers in the Data\n",
    "\n",
    "When performing KMeans, it is important to check for any outliers in the data as it can affect the performance of the algorithm. For example, when there is aprescence of an outlier in the data, there measured loss value would be extremely high. This would force the algorithm to change the centroid from the clustered data into the outlier to minimize the measure loss function."
   ]
  },
  {
   "cell_type": "code",
   "execution_count": 4,
   "metadata": {},
   "outputs": [
    {
     "data": {
      "text/plain": [
       "Text(0.5,1,'Longitude')"
      ]
     },
     "execution_count": 4,
     "metadata": {},
     "output_type": "execute_result"
    },
    {
     "data": {
      "image/png": "[encoded data removed]",
      "text/plain": [
       "<Figure size 576x360 with 2 Axes>"
      ]
     },
     "metadata": {},
     "output_type": "display_data"
    }
   ],
   "source": [
    "fig, [ax1, ax2] = plt.subplots(nrows = 1, ncols = 2, figsize = (8, 5))\n",
    "\n",
    "ax1.boxplot(df[\"latitude\"])\n",
    "ax1.set_title(\"Latitude\")\n",
    "\n",
    "ax2.boxplot(df[\"longitude\"])\n",
    "ax2.set_title(\"Longitude\")"
   ]
  },
  {
   "cell_type": "markdown",
   "metadata": {},
   "source": [
    "Both graphs show a 0 degree geospatial value, which is not possible knowing the range of both latitude and longitude of Los Angeles. The 0 measured value shoudl be taken out from the dataset when performing the KMeans algorithm."
   ]
  },
  {
   "cell_type": "code",
   "execution_count": 5,
   "metadata": {},
   "outputs": [
    {
     "data": {
      "text/plain": [
       "set()"
      ]
     },
     "execution_count": 5,
     "metadata": {},
     "output_type": "execute_result"
    }
   ],
   "source": [
    "set(df[df[\"latitude\"] == 0].index.tolist()) - set(df[df[\"longitude\"] == 0].index.tolist())"
   ]
  },
  {
   "cell_type": "markdown",
   "metadata": {},
   "source": [
    "The returned set when both latitude and longitude had been set to 0, is null. This means that there a 0 value from any of the geospatial coorindate would translate to the other."
   ]
  },
  {
   "cell_type": "code",
   "execution_count": 6,
   "metadata": {
    "collapsed": true
   },
   "outputs": [],
   "source": [
    "#take out all 0 measured geosaptial coordinates\n",
    "df = df[df[\"longitude\"] != 0]"
   ]
  },
  {
   "cell_type": "markdown",
   "metadata": {},
   "source": [
    "# K Means Preprocessing\n",
    "\n",
    "Before placing both latitude and longitude vectors into the KMeans algorithm, data normalization should be done so that centroid coordinates will not be distorted. Whenever using K Means, it is assumed that your data is on the same scale."
   ]
  },
  {
   "cell_type": "code",
   "execution_count": 7,
   "metadata": {
    "collapsed": true
   },
   "outputs": [],
   "source": [
    "#initialize minmaxscaler\n",
    "scaler = MinMaxScaler()\n",
    "\n",
    "#add variables on transformed features\n",
    "X_processed = scaler.fit_transform(df[[\"latitude\", \"longitude\"]])"
   ]
  },
  {
   "cell_type": "markdown",
   "metadata": {},
   "source": [
    "# Clustering Crime Hotspots in the City\n",
    "\n",
    "In order to find the proper number of k clusters, one solution would be to use the elbow method. The procedure is done by fitting the KMeans Algorithm into a range of different K clusters, then get the Sum of Squares Error (SSE). Once the data has been collected, plot the data and find the \"elbow\".\n",
    "\n",
    "So for this case, it will be done by:\n",
    "\n",
    "   - Make an empty list to append all the sum of squares error for each \"k\" clusters.\n",
    "   - Perform a for loop and make k clusters from 2 to 20.\n",
    "   - Fit the model for each cluster.\n",
    "   - Append the Sum of Squares Error, inertia command, into list.\n",
    "   - Graph Elbow Plot."
   ]
  },
  {
   "cell_type": "code",
   "execution_count": 8,
   "metadata": {},
   "outputs": [],
   "source": [
    "#crime and top crimes\n",
    "wcss_crime = [] #all of the crimes\n",
    "\n",
    "battery_assault = [] #BATTERY - SIMPLE ASSAULT\n",
    "burglary_vehicle = [] #BURGLARY FROM VEHICLE\n",
    "stolen_vehicle = [] #VEHICLE - STOLEN"
   ]
  },
  {
   "cell_type": "code",
   "execution_count": 14,
   "metadata": {
    "collapsed": true
   },
   "outputs": [],
   "source": [
    "# plot data coming from sum of squares error\n",
    "def elbow_plot(elbow_array, crime_done):\n",
    "    #intialize variables \n",
    "    x = range(2, 20)\n",
    "    y = elbow_array\n",
    "    \n",
    "    crime_title = crime_done\n",
    "    title = \"Elbow Method, \" + crime_title\n",
    "    \n",
    "    fig, ax = plt.subplots()\n",
    "\n",
    "    ax.plot(x, y)\n",
    "    ax.set_xticks([i for i in range(2, 20)])\n",
    "    ax.set_xlabel(\"K Clusters\")\n",
    "    ax.set_ylabel(\"Sum of Squares Error\")\n",
    "    \n",
    "    fig.suptitle(title, fontsize = 16)"
   ]
  },
  {
   "cell_type": "code",
   "execution_count": 11,
   "metadata": {},
   "outputs": [],
   "source": [
    "def crime_inertia(crime_analyze, crime_list):\n",
    "    for cluster in range(2, 20):\n",
    "        kmeans = KMeans(n_clusters = clusters)\n",
    "        kmeans.fit(crime_analyze)\n",
    "        crime_list.append(kmeans.inertia_)"
   ]
  },
  {
   "cell_type": "code",
   "execution_count": 12,
   "metadata": {
    "collapsed": true
   },
   "outputs": [],
   "source": [
    "wcss_crime = []\n",
    "\n",
    "for clusters in range(2, 20):\n",
    "    kmeans = KMeans(n_clusters = clusters)\n",
    "    kmeans.fit(X_processed)\n",
    "    wcss_crime.append(kmeans.inertia_)"
   ]
  },
  {
   "cell_type": "code",
   "execution_count": 15,
   "metadata": {},
   "outputs": [
    {
     "data": {
      "image/png": "[encoded data removed]",
      "text/plain": [
       "<Figure size 432x288 with 1 Axes>"
      ]
     },
     "metadata": {},
     "output_type": "display_data"
    }
   ],
   "source": [
    "elbow_plot(wcss_crime, \"Crime\")"
   ]
  },
  {
   "cell_type": "markdown",
   "metadata": {},
   "source": [
    "The elbow plot shows that the optimized number of clusters are 6. This means that LA has over 6 crime hotspots scatterd all throughout the county. "
   ]
  },
  {
   "cell_type": "markdown",
   "metadata": {},
   "source": [
    "# References:\n",
    "\n",
    "   - K Means Algorithm \n",
    "     - https://medium.com/datadriveninvestor/k-means-clustering-b89d349e98e6\n",
    "     - https://towardsdatascience.com/clustering-using-k-means-algorithm-81da00f156f6\n",
    "         \n",
    "   - Elbow Method \n",
    "     - https://bl.ocks.org/rpgove/0060ff3b656618e9136b"
   ]
  }
 ],
 "metadata": {
  "kernelspec": {
   "display_name": "Python 3",
   "language": "python",
   "name": "python3"
  },
  "language_info": {
   "codemirror_mode": {
    "name": "ipython",
    "version": 3
   },
   "file_extension": ".py",
   "mimetype": "text/x-python",
   "name": "python",
   "nbconvert_exporter": "python",
   "pygments_lexer": "ipython3",
   "version": "3.6.3"
  }
 },
 "nbformat": 4,
 "nbformat_minor": 2
}
